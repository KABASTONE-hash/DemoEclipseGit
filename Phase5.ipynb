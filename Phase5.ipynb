{
  "nbformat": 4,
  "nbformat_minor": 0,
  "metadata": {
    "colab": {
      "name": "Phase5.ipynb",
      "provenance": [],
      "authorship_tag": "ABX9TyO/yLN6PDlPa77VhNqNqE+b",
      "include_colab_link": true
    },
    "kernelspec": {
      "name": "python3",
      "display_name": "Python 3"
    },
    "language_info": {
      "name": "python"
    }
  },
  "cells": [
    {
      "cell_type": "markdown",
      "metadata": {
        "id": "view-in-github",
        "colab_type": "text"
      },
      "source": [
        "<a href=\"https://colab.research.google.com/github/KABASTONE-hash/DemoEclipseGit/blob/master/Phase5.ipynb\" target=\"_parent\"><img src=\"https://colab.research.google.com/assets/colab-badge.svg\" alt=\"Open In Colab\"/></a>"
      ]
    },
    {
      "cell_type": "code",
      "source": [
        "!pip install nltk\n",
        "!pip install gtts\n",
        "!pip install newspaper3k"
      ],
      "metadata": {
        "id": "PW0ptLxFNAcs"
      },
      "execution_count": null,
      "outputs": []
    },
    {
      "cell_type": "code",
      "execution_count": 7,
      "metadata": {
        "id": "CxB7BsU95pew"
      },
      "outputs": [],
      "source": [
        "import requests\n",
        "from bs4 import BeautifulSoup\n",
        "import pandas as pd"
      ]
    },
    {
      "cell_type": "code",
      "source": [
        ""
      ],
      "metadata": {
        "id": "xbIzewhN9sy-"
      },
      "execution_count": 10,
      "outputs": []
    },
    {
      "cell_type": "code",
      "source": [
        "url_to_scripe = [\"https://www.challenge.ma/\",\"https://www.huffpostmaghreb.com\",\"https://www.lavieeco.com\",\"https://www.leconomiste.com\",\"https://www.lematin.ma\"]\n",
        "\n",
        "for url_to in url_to_scripe:\n",
        "    # GET, decode and drop header\n",
        "    html = requests.get(url_to).content.decode('UTF-8').split('</head>')[1]\n",
        "\n",
        "    pattern = r'http.+?(?=\"|<)'\n",
        "    urls = re.findall(pattern, html)\n",
        "\n",
        "    article_urls=[]\n",
        "    for url in urls:\n",
        "        contain=False\n",
        "        for excep in ['.png',\".jpg\",\".jpeg\",\"id=\",\"https:\\/\\/\",\"SÉRIE8MARS2022/mobile/index.html\"]:\n",
        "          if excep in url:\n",
        "            contain=True\n",
        "        if contain!=True:\n",
        "\n",
        "            article_urls.append(url)\n",
        "article_urls=set(article_urls)"
      ],
      "metadata": {
        "id": "Xk7tAvzpAnwp"
      },
      "execution_count": 19,
      "outputs": []
    },
    {
      "cell_type": "code",
      "source": [
        "import nltk\n",
        "nltk.download(\"punkt\")\n",
        "\n",
        "from gtts import gTTS\n",
        "from newspaper.article import Article"
      ],
      "metadata": {
        "colab": {
          "base_uri": "https://localhost:8080/"
        },
        "id": "mkFoQHUmGyWX",
        "outputId": "322f8c5e-6761-43f4-bf02-c04d4dcbf648"
      },
      "execution_count": 20,
      "outputs": [
        {
          "output_type": "stream",
          "name": "stdout",
          "text": [
            "[nltk_data] Downloading package punkt to /root/nltk_data...\n",
            "[nltk_data]   Package punkt is already up-to-date!\n"
          ]
        }
      ]
    },
    {
      "cell_type": "code",
      "source": [
        "with open('article_scriping.txt','w+') as file:\n",
        "   \n",
        "    my_text=\" \"\n",
        "    for url in article_urls:\n",
        "      article=Article(url)\n",
        "      article.download()\n",
        "      try:\n",
        "          article.parse()\n",
        "          article.nlp()\n",
        "\n",
        "          my_text+=str(article.text)+\" \"\n",
        "      except:\n",
        "          continue\n",
        "    file.write(my_text)\n",
        "    file.close()"
      ],
      "metadata": {
        "id": "-COhpMZENRhn"
      },
      "execution_count": 21,
      "outputs": []
    },
    {
      "cell_type": "code",
      "source": [
        ""
      ],
      "metadata": {
        "id": "kNoQysf3NzaI"
      },
      "execution_count": null,
      "outputs": []
    }
  ]
}